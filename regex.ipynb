{
 "cells": [
  {
   "cell_type": "code",
   "execution_count": 30,
   "metadata": {},
   "outputs": [],
   "source": [
    "import re\n",
    "import pandas as pd\n",
    "import os\n",
    "from datetime import timedelta, datetime\n",
    "import seaborn as sns\n",
    "import matplotlib.pyplot as plt"
   ]
  },
  {
   "cell_type": "markdown",
   "metadata": {},
   "source": [
    "COMENTARIOS"
   ]
  },
  {
   "cell_type": "code",
   "execution_count": 21,
   "metadata": {},
   "outputs": [],
   "source": [
    "# Ruta al directorio de la carpeta con los archivos .txt\n",
    "carpeta_path = os.path.join(os.getcwd(), 'Recopilaciones')\n",
    "\n",
    "df_comentarios_consolidado = pd.DataFrame()\n",
    "\n",
    "#----------------------------------------------------------------------------------------------------------------------------------\n",
    "# Función para procesar las fechas y convertirlas a formato datetime\n",
    "def procesar_fecha(fecha):\n",
    "    # Si la fecha contiene \"semana\", \"mes\" o \"año\", es relativa\n",
    "    if \"semana\" in fecha or \"mes\" in fecha or \"año\" in fecha:\n",
    "        # Detectar la cantidad y la unidad de tiempo\n",
    "        match = re.match(r\"(\\d+)\\s*(semanas?|meses?|años?)\", fecha)\n",
    "        if match:\n",
    "            cantidad = int(match.group(1))\n",
    "            unidad = match.group(2)\n",
    "\n",
    "            if \"semana\" in unidad:\n",
    "                dias_a_restar = cantidad * 7\n",
    "            elif \"mes\" in unidad:\n",
    "                dias_a_restar = cantidad * 30 \n",
    "            elif \"año\" in unidad:\n",
    "                dias_a_restar = cantidad * 365\n",
    "\n",
    "            # Restar los días a la fecha actual\n",
    "            fecha_actual = datetime.now()\n",
    "            fecha_corregida = fecha_actual - timedelta(days=dias_a_restar)\n",
    "            return fecha_corregida\n",
    "    try:\n",
    "        fecha_corregida = datetime.strptime(fecha, \"%Y-%m-%dT%H:%M:%S.%fZ\")\n",
    "        return fecha_corregida\n",
    "    except ValueError:\n",
    "        pass \n",
    "\n",
    "    # Fechas en formato \"DD-MM-YYYY\"\n",
    "    try:\n",
    "        fecha_corregida = datetime.strptime(fecha, \"%d-%m-%Y\")\n",
    "        return fecha_corregida\n",
    "    except ValueError:\n",
    "        # Si no coincide con ningún formato conocido -> None\n",
    "        return None\n",
    "\n",
    "#--------------------------------------------------------------------------------------------------------------------------------\n",
    "\n",
    "# Iterar sobre todos los archivos en la carpeta\n",
    "for nombre_archivo in os.listdir(carpeta_path):\n",
    "    if nombre_archivo.endswith('.txt'):\n",
    "        if 'ig' in nombre_archivo:\n",
    "            patron_comentario= r'<span class=[\"\\']_ap3a _aaco _aacu _aacx _aad7 _aade[\"\\'] dir=[\"\\']auto[\"\\']>(.*?)</span>'\n",
    "            patron_fecha = r'<time class=[\"\\']_a9ze _a9zf[\"\\'] datetime=[\"\\'](.*?)[\"\\'].*?>'\n",
    "            fuente = \"INSTAGRAM\"\n",
    "        elif 'fb' in nombre_archivo:\n",
    "            patron_comentario= r'<div class=\"xdj266r x11i5rnm xat24cr x1mh8g0r x1vvkbs\"><div dir=\"auto\" style=\"text-align: start;\">(.*?)</div></div>'\n",
    "            patron_fecha = r'<div class=\"html-div.*?\"><a class=\".*?\" href=\"[^\\\"]*\" role=\"link\" tabindex=\"0\">(.*?)</a></div>'\n",
    "            fuente = \"FACEBOOK\"\n",
    "        elif 'tw' in nombre_archivo:\n",
    "            patron_comentario= r'<div[^>]*?data-testid=\"tweetText\"[^>]*?>.*?<span[^>]*?>([^<]*?)</span>'\n",
    "            patron_fecha = r'<a href=\"[^\\\"]*\" dir=\"ltr\" aria-label=\"[^\\\"]*\" role=\"link\" class=\".*?\"><time datetime=\"(.*?)\">.*?</time></a>'\n",
    "            fuente = \"TWITTER\"\n",
    "\n",
    "        ruta_archivo = os.path.join(carpeta_path, nombre_archivo)\n",
    "        with open(ruta_archivo, 'r', encoding='utf-8') as archivo:\n",
    "            texto = archivo.read()\n",
    "\n",
    "        # Usar re.findall para encontrar todas las coincidencias en el texto\n",
    "        resultados_comentarios = re.findall(patron_comentario, texto)\n",
    "        resultados_fechas = re.findall(patron_fecha, texto)\n",
    "        resultados_fechas = [procesar_fecha(fecha) for fecha in resultados_fechas]\n",
    "\n",
    "        # Asegurar que ambas listas tengan la misma longitud\n",
    "        longitud_deseada = len(resultados_comentarios)\n",
    "        if len(resultados_fechas) < longitud_deseada:\n",
    "            # Agregar fechas None para completar\n",
    "            resultados_fechas.extend([None] * (longitud_deseada - len(resultados_fechas)))\n",
    "        elif len(resultados_fechas) > longitud_deseada:\n",
    "            # Cortar la lista de fechas si es más larga que los comentarios\n",
    "            resultados_fechas = resultados_fechas[:longitud_deseada]\n",
    "\n",
    "        # DataFrame con Comentario, Fuente y Fecha\n",
    "        data = {\"Comentarios\": resultados_comentarios, \"Fuente\": fuente, \"Fecha\": resultados_fechas}\n",
    "        df_comentarios = pd.DataFrame(data)\n",
    "\n",
    "        # Calcular el promedio de las fechas existentes\n",
    "        fechas_validas = df_comentarios['Fecha'].dropna()\n",
    "        if not fechas_validas.empty:\n",
    "            promedio_fecha = fechas_validas.mean()\n",
    "            df_comentarios['Fecha'].fillna(promedio_fecha, inplace=True)\n",
    "\n",
    "        # DataFrame consolidado\n",
    "        df_comentarios_consolidado = pd.concat([df_comentarios_consolidado, df_comentarios], ignore_index=True)\n",
    "\n",
    "        # Agregar columna ID\n",
    "        df_comentarios_consolidado['ID'] = range(1, len(df_comentarios_consolidado) + 1)\n",
    "\n",
    "# df_comentarios_consolidado.to_csv(\"comentarios_extraidos.csv\", index=False, encoding=\"utf-8\")\n",
    "\n",
    "        "
   ]
  },
  {
   "cell_type": "code",
   "execution_count": 11,
   "metadata": {},
   "outputs": [
    {
     "data": {
      "text/html": [
       "<div>\n",
       "<style scoped>\n",
       "    .dataframe tbody tr th:only-of-type {\n",
       "        vertical-align: middle;\n",
       "    }\n",
       "\n",
       "    .dataframe tbody tr th {\n",
       "        vertical-align: top;\n",
       "    }\n",
       "\n",
       "    .dataframe thead th {\n",
       "        text-align: right;\n",
       "    }\n",
       "</style>\n",
       "<table border=\"1\" class=\"dataframe\">\n",
       "  <thead>\n",
       "    <tr style=\"text-align: right;\">\n",
       "      <th></th>\n",
       "      <th>Comentarios</th>\n",
       "      <th>Fuente</th>\n",
       "      <th>Fecha</th>\n",
       "      <th>ID</th>\n",
       "    </tr>\n",
       "  </thead>\n",
       "  <tbody>\n",
       "    <tr>\n",
       "      <th>0</th>\n",
       "      <td>Hace 15 min acabo de recibir la llamada número...</td>\n",
       "      <td>FACEBOOK</td>\n",
       "      <td>2024-10-14 02:29:46.810597120</td>\n",
       "      <td>1</td>\n",
       "    </tr>\n",
       "    <tr>\n",
       "      <th>1</th>\n",
       "      <td>Hola, Eduardo. Queremos revisar el incidente c...</td>\n",
       "      <td>FACEBOOK</td>\n",
       "      <td>2024-10-14 02:29:46.810597120</td>\n",
       "      <td>2</td>\n",
       "    </tr>\n",
       "    <tr>\n",
       "      <th>2</th>\n",
       "      <td>Y EL SORTEO POR LA COMPRA DEL REDMI13C PARA CU...</td>\n",
       "      <td>FACEBOOK</td>\n",
       "      <td>2024-10-14 02:29:46.810597120</td>\n",
       "      <td>3</td>\n",
       "    </tr>\n",
       "    <tr>\n",
       "      <th>3</th>\n",
       "      <td>¡Calma, Dani! Puedes conocer a los ganadores d...</td>\n",
       "      <td>FACEBOOK</td>\n",
       "      <td>2024-10-14 02:29:46.810597120</td>\n",
       "      <td>4</td>\n",
       "    </tr>\n",
       "    <tr>\n",
       "      <th>4</th>\n",
       "      <td>Buenas noches, ya me tienen harta.&lt;/div&gt;&lt;div d...</td>\n",
       "      <td>FACEBOOK</td>\n",
       "      <td>2024-10-14 02:29:46.810597120</td>\n",
       "      <td>5</td>\n",
       "    </tr>\n",
       "    <tr>\n",
       "      <th>...</th>\n",
       "      <td>...</td>\n",
       "      <td>...</td>\n",
       "      <td>...</td>\n",
       "      <td>...</td>\n",
       "    </tr>\n",
       "    <tr>\n",
       "      <th>3485</th>\n",
       "      <td>💙</td>\n",
       "      <td>INSTAGRAM</td>\n",
       "      <td>2024-07-27 02:34:39.000000000</td>\n",
       "      <td>3486</td>\n",
       "    </tr>\n",
       "    <tr>\n",
       "      <th>3486</th>\n",
       "      <td>👏👏</td>\n",
       "      <td>INSTAGRAM</td>\n",
       "      <td>2024-08-01 21:32:55.000000000</td>\n",
       "      <td>3487</td>\n",
       "    </tr>\n",
       "    <tr>\n",
       "      <th>3487</th>\n",
       "      <td>Siempre conectados 💙💙 Amé &lt;a class=\"x1i10hfl x...</td>\n",
       "      <td>INSTAGRAM</td>\n",
       "      <td>2024-09-28 00:38:19.000000000</td>\n",
       "      <td>3488</td>\n",
       "    </tr>\n",
       "    <tr>\n",
       "      <th>3488</th>\n",
       "      <td>Qué lindo comercial, &lt;a class=\"x1i10hfl xjbqb8...</td>\n",
       "      <td>INSTAGRAM</td>\n",
       "      <td>2024-07-27 16:52:42.000000000</td>\n",
       "      <td>3489</td>\n",
       "    </tr>\n",
       "    <tr>\n",
       "      <th>3489</th>\n",
       "      <td>Compartir recuerdos, compartir historia 🤩💙👏 &lt;a...</td>\n",
       "      <td>INSTAGRAM</td>\n",
       "      <td>2024-07-27 15:25:46.000000000</td>\n",
       "      <td>3490</td>\n",
       "    </tr>\n",
       "  </tbody>\n",
       "</table>\n",
       "<p>3490 rows × 4 columns</p>\n",
       "</div>"
      ],
      "text/plain": [
       "                                            Comentarios     Fuente   \n",
       "0     Hace 15 min acabo de recibir la llamada número...   FACEBOOK  \\\n",
       "1     Hola, Eduardo. Queremos revisar el incidente c...   FACEBOOK   \n",
       "2     Y EL SORTEO POR LA COMPRA DEL REDMI13C PARA CU...   FACEBOOK   \n",
       "3     ¡Calma, Dani! Puedes conocer a los ganadores d...   FACEBOOK   \n",
       "4     Buenas noches, ya me tienen harta.</div><div d...   FACEBOOK   \n",
       "...                                                 ...        ...   \n",
       "3485                                                  💙  INSTAGRAM   \n",
       "3486                                                 👏👏  INSTAGRAM   \n",
       "3487  Siempre conectados 💙💙 Amé <a class=\"x1i10hfl x...  INSTAGRAM   \n",
       "3488  Qué lindo comercial, <a class=\"x1i10hfl xjbqb8...  INSTAGRAM   \n",
       "3489  Compartir recuerdos, compartir historia 🤩💙👏 <a...  INSTAGRAM   \n",
       "\n",
       "                             Fecha    ID  \n",
       "0    2024-10-14 02:29:46.810597120     1  \n",
       "1    2024-10-14 02:29:46.810597120     2  \n",
       "2    2024-10-14 02:29:46.810597120     3  \n",
       "3    2024-10-14 02:29:46.810597120     4  \n",
       "4    2024-10-14 02:29:46.810597120     5  \n",
       "...                            ...   ...  \n",
       "3485 2024-07-27 02:34:39.000000000  3486  \n",
       "3486 2024-08-01 21:32:55.000000000  3487  \n",
       "3487 2024-09-28 00:38:19.000000000  3488  \n",
       "3488 2024-07-27 16:52:42.000000000  3489  \n",
       "3489 2024-07-27 15:25:46.000000000  3490  \n",
       "\n",
       "[3490 rows x 4 columns]"
      ]
     },
     "execution_count": 11,
     "metadata": {},
     "output_type": "execute_result"
    }
   ],
   "source": [
    "df_comentarios_consolidado"
   ]
  },
  {
   "cell_type": "markdown",
   "metadata": {},
   "source": [
    "# EXPLORACION DE DATOS"
   ]
  },
  {
   "cell_type": "code",
   "execution_count": null,
   "metadata": {},
   "outputs": [
    {
     "data": {
      "text/html": [
       "<div>\n",
       "<style scoped>\n",
       "    .dataframe tbody tr th:only-of-type {\n",
       "        vertical-align: middle;\n",
       "    }\n",
       "\n",
       "    .dataframe tbody tr th {\n",
       "        vertical-align: top;\n",
       "    }\n",
       "\n",
       "    .dataframe thead th {\n",
       "        text-align: right;\n",
       "    }\n",
       "</style>\n",
       "<table border=\"1\" class=\"dataframe\">\n",
       "  <thead>\n",
       "    <tr style=\"text-align: right;\">\n",
       "      <th></th>\n",
       "      <th>Comentarios</th>\n",
       "      <th>Fuente</th>\n",
       "      <th>Fecha</th>\n",
       "      <th>ID</th>\n",
       "    </tr>\n",
       "  </thead>\n",
       "  <tbody>\n",
       "    <tr>\n",
       "      <th>0</th>\n",
       "      <td>Hace 15 min acabo de recibir la llamada número...</td>\n",
       "      <td>FACEBOOK</td>\n",
       "      <td>2024-10-14</td>\n",
       "      <td>1</td>\n",
       "    </tr>\n",
       "    <tr>\n",
       "      <th>1</th>\n",
       "      <td>Hola, Eduardo. Queremos revisar el incidente c...</td>\n",
       "      <td>FACEBOOK</td>\n",
       "      <td>2024-10-14</td>\n",
       "      <td>2</td>\n",
       "    </tr>\n",
       "    <tr>\n",
       "      <th>2</th>\n",
       "      <td>Y EL SORTEO POR LA COMPRA DEL REDMI13C PARA CU...</td>\n",
       "      <td>FACEBOOK</td>\n",
       "      <td>2024-10-14</td>\n",
       "      <td>3</td>\n",
       "    </tr>\n",
       "    <tr>\n",
       "      <th>3</th>\n",
       "      <td>¡Calma, Dani! Puedes conocer a los ganadores d...</td>\n",
       "      <td>FACEBOOK</td>\n",
       "      <td>2024-10-14</td>\n",
       "      <td>4</td>\n",
       "    </tr>\n",
       "    <tr>\n",
       "      <th>4</th>\n",
       "      <td>Buenas noches, ya me tienen harta.Todos los dí...</td>\n",
       "      <td>FACEBOOK</td>\n",
       "      <td>2024-10-14</td>\n",
       "      <td>5</td>\n",
       "    </tr>\n",
       "    <tr>\n",
       "      <th>...</th>\n",
       "      <td>...</td>\n",
       "      <td>...</td>\n",
       "      <td>...</td>\n",
       "      <td>...</td>\n",
       "    </tr>\n",
       "    <tr>\n",
       "      <th>3485</th>\n",
       "      <td>💙</td>\n",
       "      <td>INSTAGRAM</td>\n",
       "      <td>2024-07-27</td>\n",
       "      <td>3486</td>\n",
       "    </tr>\n",
       "    <tr>\n",
       "      <th>3486</th>\n",
       "      <td>👏👏</td>\n",
       "      <td>INSTAGRAM</td>\n",
       "      <td>2024-08-01</td>\n",
       "      <td>3487</td>\n",
       "    </tr>\n",
       "    <tr>\n",
       "      <th>3487</th>\n",
       "      <td>Siempre conectados 💙💙 Amé @luci_amalia ❤️</td>\n",
       "      <td>INSTAGRAM</td>\n",
       "      <td>2024-09-28</td>\n",
       "      <td>3488</td>\n",
       "    </tr>\n",
       "    <tr>\n",
       "      <th>3488</th>\n",
       "      <td>Qué lindo comercial, @pudybg @robertoballumbro...</td>\n",
       "      <td>INSTAGRAM</td>\n",
       "      <td>2024-07-27</td>\n",
       "      <td>3489</td>\n",
       "    </tr>\n",
       "    <tr>\n",
       "      <th>3489</th>\n",
       "      <td>Compartir recuerdos, compartir historia 🤩💙👏 @p...</td>\n",
       "      <td>INSTAGRAM</td>\n",
       "      <td>2024-07-27</td>\n",
       "      <td>3490</td>\n",
       "    </tr>\n",
       "  </tbody>\n",
       "</table>\n",
       "<p>3490 rows × 4 columns</p>\n",
       "</div>"
      ],
      "text/plain": [
       "                                            Comentarios     Fuente   \n",
       "0     Hace 15 min acabo de recibir la llamada número...   FACEBOOK  \\\n",
       "1     Hola, Eduardo. Queremos revisar el incidente c...   FACEBOOK   \n",
       "2     Y EL SORTEO POR LA COMPRA DEL REDMI13C PARA CU...   FACEBOOK   \n",
       "3     ¡Calma, Dani! Puedes conocer a los ganadores d...   FACEBOOK   \n",
       "4     Buenas noches, ya me tienen harta.Todos los dí...   FACEBOOK   \n",
       "...                                                 ...        ...   \n",
       "3485                                                  💙  INSTAGRAM   \n",
       "3486                                                 👏👏  INSTAGRAM   \n",
       "3487          Siempre conectados 💙💙 Amé @luci_amalia ❤️  INSTAGRAM   \n",
       "3488  Qué lindo comercial, @pudybg @robertoballumbro...  INSTAGRAM   \n",
       "3489  Compartir recuerdos, compartir historia 🤩💙👏 @p...  INSTAGRAM   \n",
       "\n",
       "           Fecha    ID  \n",
       "0     2024-10-14     1  \n",
       "1     2024-10-14     2  \n",
       "2     2024-10-14     3  \n",
       "3     2024-10-14     4  \n",
       "4     2024-10-14     5  \n",
       "...          ...   ...  \n",
       "3485  2024-07-27  3486  \n",
       "3486  2024-08-01  3487  \n",
       "3487  2024-09-28  3488  \n",
       "3488  2024-07-27  3489  \n",
       "3489  2024-07-27  3490  \n",
       "\n",
       "[3490 rows x 4 columns]"
      ]
     },
     "execution_count": 22,
     "metadata": {},
     "output_type": "execute_result"
    }
   ],
   "source": [
    "def limpieza_1(texto):\n",
    "    return re.sub(r'<[^>]+>', '', texto)\n",
    "\n",
    "df_comentarios_consolidado['Comentarios'] = df_comentarios_consolidado['Comentarios'].apply(limpieza_1)\n",
    "df_comentarios_consolidado['Fecha'] = df_comentarios_consolidado['Fecha'].dt.date\n",
    "df_comentarios_consolidado"
   ]
  },
  {
   "cell_type": "markdown",
   "metadata": {},
   "source": [
    "## Informacion General"
   ]
  },
  {
   "cell_type": "code",
   "execution_count": 43,
   "metadata": {},
   "outputs": [
    {
     "name": "stdout",
     "output_type": "stream",
     "text": [
      "<class 'pandas.core.frame.DataFrame'>\n",
      "RangeIndex: 3490 entries, 0 to 3489\n",
      "Data columns (total 4 columns):\n",
      " #   Column       Non-Null Count  Dtype \n",
      "---  ------       --------------  ----- \n",
      " 0   Comentarios  3490 non-null   object\n",
      " 1   Fuente       3490 non-null   object\n",
      " 2   Fecha        3386 non-null   object\n",
      " 3   ID           3490 non-null   int64 \n",
      "dtypes: int64(1), object(3)\n",
      "memory usage: 109.2+ KB\n"
     ]
    }
   ],
   "source": [
    "df_comentarios_consolidado.info()"
   ]
  },
  {
   "cell_type": "markdown",
   "metadata": {},
   "source": [
    "- Comentarios: Comentarios realizados por los usuarios de redes sociales\n",
    "- Fuente: De que red social fue extraido ese comentario\n",
    "- Fecha: Fecha en la que el usuario respondió la publicació\n",
    "- ID: Identificador único"
   ]
  },
  {
   "cell_type": "markdown",
   "metadata": {},
   "source": [
    "## Verificar el tamaño del conjunto de datos"
   ]
  },
  {
   "cell_type": "code",
   "execution_count": 19,
   "metadata": {},
   "outputs": [
    {
     "data": {
      "text/plain": [
       "(3490, 4)"
      ]
     },
     "execution_count": 19,
     "metadata": {},
     "output_type": "execute_result"
    }
   ],
   "source": [
    "# Checking the shape of the dataset\n",
    "rows, columns = df_comentarios_consolidado.shape\n",
    "rows, columns"
   ]
  },
  {
   "cell_type": "markdown",
   "metadata": {},
   "source": [
    "## Valores Faltantes"
   ]
  },
  {
   "cell_type": "code",
   "execution_count": 28,
   "metadata": {},
   "outputs": [
    {
     "data": {
      "text/plain": [
       "Comentarios      0\n",
       "Fuente           0\n",
       "Fecha          104\n",
       "ID               0\n",
       "dtype: int64"
      ]
     },
     "execution_count": 28,
     "metadata": {},
     "output_type": "execute_result"
    }
   ],
   "source": [
    "# Comprobando valores faltantes en el conjunto de datos de entrenamiento \n",
    "valores_faltantes = df_comentarios_consolidado.isnull().sum() \n",
    "\n",
    "valores_faltantes"
   ]
  },
  {
   "cell_type": "code",
   "execution_count": 42,
   "metadata": {},
   "outputs": [
    {
     "data": {
      "image/png": "[encoded data removed]",
      "text/plain": [
       "<Figure size 1800x500 with 1 Axes>"
      ]
     },
     "metadata": {},
     "output_type": "display_data"
    }
   ],
   "source": [
    "# Calcular la distribución por cantidad\n",
    "plt.figure(figsize=(18, 5))\n",
    "sns.countplot(data=df_comentarios_consolidado, x='Fuente', order=['FACEBOOK', 'INSTAGRAM','TWITTER'], palette='Oranges_r')\n",
    "plt.title('Distribución de comentarios por fuente')\n",
    "#plt.xlabel('Fuente')\n",
    "#plt.ylabel('Cantidad')\n",
    "plt.xticks(rotation=45)\n",
    "plt.tight_layout()\n",
    "plt.show()"
   ]
  },
  {
   "cell_type": "code",
   "execution_count": 48,
   "metadata": {},
   "outputs": [
    {
     "data": {
      "text/plain": [
       "Fuente\n",
       "FACEBOOK     1588\n",
       "INSTAGRAM    1827\n",
       "TWITTER        75\n",
       "Name: ID, dtype: int64"
      ]
     },
     "execution_count": 48,
     "metadata": {},
     "output_type": "execute_result"
    }
   ],
   "source": [
    "df_comentarios_consolidado.groupby(['Fuente']).count()['ID']"
   ]
  },
  {
   "cell_type": "code",
   "execution_count": 51,
   "metadata": {},
   "outputs": [],
   "source": [
    "df_comentarios_consolidado_2 = df_comentarios_consolidado\n",
    "df_comentarios_consolidado_2['Año'] = pd.to_datetime(df_comentarios_consolidado_2['Fecha']).dt.year"
   ]
  },
  {
   "cell_type": "code",
   "execution_count": 55,
   "metadata": {},
   "outputs": [
    {
     "data": {
      "text/plain": [
       "<seaborn.axisgrid.FacetGrid at 0x21637c03a10>"
      ]
     },
     "execution_count": 55,
     "metadata": {},
     "output_type": "execute_result"
    },
    {
     "data": {
      "image/png": "[encoded data removed]",
      "text/plain": [
       "<Figure size 1631.12x500 with 1 Axes>"
      ]
     },
     "metadata": {},
     "output_type": "display_data"
    }
   ],
   "source": [
    "ax = sns.displot(data=df_comentarios_consolidado_2, y='Año', color='orange', hue='Fuente', multiple='stack', aspect=3)\n",
    "ax.set_axis_labels('Contar por grupo de prendas', 'Garment Group')"
   ]
  },
  {
   "cell_type": "code",
   "execution_count": 45,
   "metadata": {},
   "outputs": [
    {
     "data": {
      "text/html": [
       "<div>\n",
       "<style scoped>\n",
       "    .dataframe tbody tr th:only-of-type {\n",
       "        vertical-align: middle;\n",
       "    }\n",
       "\n",
       "    .dataframe tbody tr th {\n",
       "        vertical-align: top;\n",
       "    }\n",
       "\n",
       "    .dataframe thead th {\n",
       "        text-align: right;\n",
       "    }\n",
       "</style>\n",
       "<table border=\"1\" class=\"dataframe\">\n",
       "  <thead>\n",
       "    <tr style=\"text-align: right;\">\n",
       "      <th></th>\n",
       "      <th>Comentarios</th>\n",
       "      <th>Fuente</th>\n",
       "      <th>Fecha</th>\n",
       "      <th>ID</th>\n",
       "    </tr>\n",
       "  </thead>\n",
       "  <tbody>\n",
       "    <tr>\n",
       "      <th>2890</th>\n",
       "      <td>No tengo señal</td>\n",
       "      <td>INSTAGRAM</td>\n",
       "      <td>2024-08-30</td>\n",
       "      <td>2891</td>\n",
       "    </tr>\n",
       "    <tr>\n",
       "      <th>695</th>\n",
       "      <td>#Misituación estamos a full con la batería,con...</td>\n",
       "      <td>FACEBOOK</td>\n",
       "      <td>2024-11-04</td>\n",
       "      <td>696</td>\n",
       "    </tr>\n",
       "    <tr>\n",
       "      <th>1404</th>\n",
       "      <td>#MISITUACIÓN  Está excelente porque tenemos a ...</td>\n",
       "      <td>FACEBOOK</td>\n",
       "      <td>2024-11-04</td>\n",
       "      <td>1405</td>\n",
       "    </tr>\n",
       "    <tr>\n",
       "      <th>1558</th>\n",
       "      <td>#Misituación esta como el almacenamiento de mi...</td>\n",
       "      <td>FACEBOOK</td>\n",
       "      <td>2024-11-04</td>\n",
       "      <td>1559</td>\n",
       "    </tr>\n",
       "    <tr>\n",
       "      <th>828</th>\n",
       "      <td>#Misituacion si gano , le digo a todos si es v...</td>\n",
       "      <td>FACEBOOK</td>\n",
       "      <td>2024-11-04</td>\n",
       "      <td>829</td>\n",
       "    </tr>\n",
       "    <tr>\n",
       "      <th>799</th>\n",
       "      <td>#Misituacion en proceso de carga, pronto llega...</td>\n",
       "      <td>FACEBOOK</td>\n",
       "      <td>2024-11-04</td>\n",
       "      <td>800</td>\n",
       "    </tr>\n",
       "    <tr>\n",
       "      <th>1629</th>\n",
       "      <td>Entel y beonotocias...mi familia!!!🙌</td>\n",
       "      <td>INSTAGRAM</td>\n",
       "      <td>2024-10-03</td>\n",
       "      <td>1630</td>\n",
       "    </tr>\n",
       "    <tr>\n",
       "      <th>2077</th>\n",
       "      <td>ES HOOOY ASÍ QUE POR ÚLTIMO #MISITUACIÓN ES CO...</td>\n",
       "      <td>INSTAGRAM</td>\n",
       "      <td>2024-10-22</td>\n",
       "      <td>2078</td>\n",
       "    </tr>\n",
       "    <tr>\n",
       "      <th>3337</th>\n",
       "      <td>Que de malo paso acá son seres humanos como to...</td>\n",
       "      <td>INSTAGRAM</td>\n",
       "      <td>2024-06-30</td>\n",
       "      <td>3338</td>\n",
       "    </tr>\n",
       "    <tr>\n",
       "      <th>1519</th>\n",
       "      <td>#Misituación amorosa con la batería en 100%, c...</td>\n",
       "      <td>FACEBOOK</td>\n",
       "      <td>2024-11-04</td>\n",
       "      <td>1520</td>\n",
       "    </tr>\n",
       "  </tbody>\n",
       "</table>\n",
       "</div>"
      ],
      "text/plain": [
       "                                            Comentarios     Fuente   \n",
       "2890                                     No tengo señal  INSTAGRAM  \\\n",
       "695   #Misituación estamos a full con la batería,con...   FACEBOOK   \n",
       "1404  #MISITUACIÓN  Está excelente porque tenemos a ...   FACEBOOK   \n",
       "1558  #Misituación esta como el almacenamiento de mi...   FACEBOOK   \n",
       "828   #Misituacion si gano , le digo a todos si es v...   FACEBOOK   \n",
       "799   #Misituacion en proceso de carga, pronto llega...   FACEBOOK   \n",
       "1629               Entel y beonotocias...mi familia!!!🙌  INSTAGRAM   \n",
       "2077  ES HOOOY ASÍ QUE POR ÚLTIMO #MISITUACIÓN ES CO...  INSTAGRAM   \n",
       "3337  Que de malo paso acá son seres humanos como to...  INSTAGRAM   \n",
       "1519  #Misituación amorosa con la batería en 100%, c...   FACEBOOK   \n",
       "\n",
       "           Fecha    ID  \n",
       "2890  2024-08-30  2891  \n",
       "695   2024-11-04   696  \n",
       "1404  2024-11-04  1405  \n",
       "1558  2024-11-04  1559  \n",
       "828   2024-11-04   829  \n",
       "799   2024-11-04   800  \n",
       "1629  2024-10-03  1630  \n",
       "2077  2024-10-22  2078  \n",
       "3337  2024-06-30  3338  \n",
       "1519  2024-11-04  1520  "
      ]
     },
     "execution_count": 45,
     "metadata": {},
     "output_type": "execute_result"
    }
   ],
   "source": [
    "df_comentarios_consolidado.sample(10)"
   ]
  },
  {
   "cell_type": "code",
   "execution_count": 27,
   "metadata": {},
   "outputs": [],
   "source": [
    "df_comentarios_consolidado.to_excel('Resultados2.xlsx',index=False)\n"
   ]
  }
 ],
 "metadata": {
  "kernelspec": {
   "display_name": "Python 3",
   "language": "python",
   "name": "python3"
  },
  "language_info": {
   "codemirror_mode": {
    "name": "ipython",
    "version": 3
   },
   "file_extension": ".py",
   "mimetype": "text/x-python",
   "name": "python",
   "nbconvert_exporter": "python",
   "pygments_lexer": "ipython3",
   "version": "3.11.2"
  }
 },
 "nbformat": 4,
 "nbformat_minor": 2
}
